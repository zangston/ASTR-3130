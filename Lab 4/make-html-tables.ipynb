{
 "cells": [
  {
   "cell_type": "code",
   "execution_count": 1,
   "id": "c26370c3",
   "metadata": {},
   "outputs": [],
   "source": [
    "import os\n",
    "from astropy.io import fits\n",
    "from astropy.table import Table\n",
    "import astropy.io.ascii.html as HTML"
   ]
  },
  {
   "cell_type": "code",
   "execution_count": 2,
   "id": "7abde613",
   "metadata": {},
   "outputs": [
    {
     "data": {
      "text/plain": [
       "'/home/wyz5rge/Documents/ASTR-3130/Lab 4'"
      ]
     },
     "execution_count": 2,
     "metadata": {},
     "output_type": "execute_result"
    }
   ],
   "source": [
    "%pwd"
   ]
  },
  {
   "cell_type": "code",
   "execution_count": 3,
   "id": "c623ac92",
   "metadata": {},
   "outputs": [
    {
     "data": {
      "text/plain": [
       "\"\\nfile = fits.open('./rr_lyr_M3_V.fits')\\nfits_table = file[1].data\\nphot_table = Table(file[1].data)\\n\\nphot_table.write('photometry_table.html', format='html')\\n\""
      ]
     },
     "execution_count": 3,
     "metadata": {},
     "output_type": "execute_result"
    }
   ],
   "source": [
    "'''\n",
    "file = fits.open('./rr_lyr_M3_V.fits')\n",
    "fits_table = file[1].data\n",
    "phot_table = Table(file[1].data)\n",
    "\n",
    "phot_table.write('photometry_table.html', format='html')\n",
    "'''"
   ]
  },
  {
   "cell_type": "code",
   "execution_count": 4,
   "id": "dcf7ba84",
   "metadata": {},
   "outputs": [
    {
     "data": {
      "text/plain": [
       "'/home/wyz5rge/Documents/ASTR-3130/Lab 4'"
      ]
     },
     "execution_count": 4,
     "metadata": {},
     "output_type": "execute_result"
    }
   ],
   "source": [
    "%pwd"
   ]
  },
  {
   "cell_type": "code",
   "execution_count": 5,
   "id": "3e2b367c",
   "metadata": {},
   "outputs": [
    {
     "name": "stderr",
     "output_type": "stream",
     "text": [
      "WARNING: AstropyDeprecationWarning: frame_table.html already exists. Automatically overwriting ASCII files is deprecated. Use the argument 'overwrite=True' in the future. [astropy.io.ascii.ui]\n"
     ]
    }
   ],
   "source": [
    "# List of folder paths to search through\n",
    "folder_paths = ['./calibration/night1_reduced', './calibration/night2', './calibration/night3']\n",
    "\n",
    "# List to store data\n",
    "data = []\n",
    "\n",
    "# Iterate over each folder path\n",
    "for folder_path in folder_paths:\n",
    "    # Iterate over files in the folder\n",
    "    for filename in os.listdir(folder_path):\n",
    "        if filename.endswith('.fits'):\n",
    "            # Read FITS header\n",
    "            with fits.open(os.path.join(folder_path, filename)) as hdul:\n",
    "                header = hdul[0].header\n",
    "                # Extract relevant information\n",
    "                name = filename\n",
    "                time = header.get('DATE-OBS', 'N/A')\n",
    "                exposure_time = header.get('EXPTIME', 'N/A')\n",
    "                # Append to data list\n",
    "                data.append((name, time, exposure_time))\n",
    "\n",
    "# Create Astropy table\n",
    "frame_table = Table(rows=data, names=('Name', 'Time', 'Exposure Time'))\n",
    "\n",
    "frame_table.write('frame_table.html', format='html')\n"
   ]
  },
  {
   "cell_type": "code",
   "execution_count": null,
   "id": "e93b802e",
   "metadata": {},
   "outputs": [],
   "source": [
    "     "
   ]
  }
 ],
 "metadata": {
  "kernelspec": {
   "display_name": "Python 3 (ipykernel)",
   "language": "python",
   "name": "python3"
  },
  "language_info": {
   "codemirror_mode": {
    "name": "ipython",
    "version": 3
   },
   "file_extension": ".py",
   "mimetype": "text/x-python",
   "name": "python",
   "nbconvert_exporter": "python",
   "pygments_lexer": "ipython3",
   "version": "3.8.10"
  }
 },
 "nbformat": 4,
 "nbformat_minor": 5
}
